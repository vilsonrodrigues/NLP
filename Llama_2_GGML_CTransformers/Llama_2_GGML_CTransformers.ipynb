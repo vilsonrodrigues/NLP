{
  "nbformat": 4,
  "nbformat_minor": 0,
  "metadata": {
    "colab": {
      "provenance": [],
      "gpuType": "T4",
      "authorship_tag": "ABX9TyNBiOVdvNcepnMtwRDooVYS",
      "include_colab_link": true
    },
    "kernelspec": {
      "name": "python3",
      "display_name": "Python 3"
    },
    "language_info": {
      "name": "python"
    },
    "accelerator": "GPU"
  },
  "cells": [
    {
      "cell_type": "markdown",
      "metadata": {
        "id": "view-in-github",
        "colab_type": "text"
      },
      "source": [
        "<a href=\"https://colab.research.google.com/github/vilsonrodrigues/NLP/blob/master/Llama_2_GGML_CTransformers/Llama_2_GGML_CTransformers.ipynb\" target=\"_parent\"><img src=\"https://colab.research.google.com/assets/colab-badge.svg\" alt=\"Open In Colab\"/></a>"
      ]
    },
    {
      "cell_type": "code",
      "source": [
        "!nvidia-smi"
      ],
      "metadata": {
        "colab": {
          "base_uri": "https://localhost:8080/"
        },
        "id": "U-hlb3r0vemt",
        "outputId": "258b3b4b-c488-47f5-8ccc-032c71cd7334"
      },
      "execution_count": 1,
      "outputs": [
        {
          "output_type": "stream",
          "name": "stdout",
          "text": [
            "Tue Jul 18 20:43:04 2023       \n",
            "+-----------------------------------------------------------------------------+\n",
            "| NVIDIA-SMI 525.105.17   Driver Version: 525.105.17   CUDA Version: 12.0     |\n",
            "|-------------------------------+----------------------+----------------------+\n",
            "| GPU  Name        Persistence-M| Bus-Id        Disp.A | Volatile Uncorr. ECC |\n",
            "| Fan  Temp  Perf  Pwr:Usage/Cap|         Memory-Usage | GPU-Util  Compute M. |\n",
            "|                               |                      |               MIG M. |\n",
            "|===============================+======================+======================|\n",
            "|   0  Tesla T4            Off  | 00000000:00:04.0 Off |                    0 |\n",
            "| N/A   54C    P8    10W /  70W |      0MiB / 15360MiB |      0%      Default |\n",
            "|                               |                      |                  N/A |\n",
            "+-------------------------------+----------------------+----------------------+\n",
            "                                                                               \n",
            "+-----------------------------------------------------------------------------+\n",
            "| Processes:                                                                  |\n",
            "|  GPU   GI   CI        PID   Type   Process name                  GPU Memory |\n",
            "|        ID   ID                                                   Usage      |\n",
            "|=============================================================================|\n",
            "|  No running processes found                                                 |\n",
            "+-----------------------------------------------------------------------------+\n"
          ]
        }
      ]
    },
    {
      "cell_type": "code",
      "source": [
        "!lscpu"
      ],
      "metadata": {
        "colab": {
          "base_uri": "https://localhost:8080/"
        },
        "id": "hIBbLjHawTlw",
        "outputId": "9d269659-2299-4ed8-ec61-4300aafe02d4"
      },
      "execution_count": 4,
      "outputs": [
        {
          "output_type": "stream",
          "name": "stdout",
          "text": [
            "Architecture:                    x86_64\n",
            "CPU op-mode(s):                  32-bit, 64-bit\n",
            "Byte Order:                      Little Endian\n",
            "Address sizes:                   46 bits physical, 48 bits virtual\n",
            "CPU(s):                          2\n",
            "On-line CPU(s) list:             0,1\n",
            "Thread(s) per core:              2\n",
            "Core(s) per socket:              1\n",
            "Socket(s):                       1\n",
            "NUMA node(s):                    1\n",
            "Vendor ID:                       GenuineIntel\n",
            "CPU family:                      6\n",
            "Model:                           63\n",
            "Model name:                      Intel(R) Xeon(R) CPU @ 2.30GHz\n",
            "Stepping:                        0\n",
            "CPU MHz:                         2299.998\n",
            "BogoMIPS:                        4599.99\n",
            "Hypervisor vendor:               KVM\n",
            "Virtualization type:             full\n",
            "L1d cache:                       32 KiB\n",
            "L1i cache:                       32 KiB\n",
            "L2 cache:                        256 KiB\n",
            "L3 cache:                        45 MiB\n",
            "NUMA node0 CPU(s):               0,1\n",
            "Vulnerability Itlb multihit:     Not affected\n",
            "Vulnerability L1tf:              Mitigation; PTE Inversion\n",
            "Vulnerability Mds:               Vulnerable; SMT Host state unknown\n",
            "Vulnerability Meltdown:          Vulnerable\n",
            "Vulnerability Mmio stale data:   Vulnerable\n",
            "Vulnerability Retbleed:          Vulnerable\n",
            "Vulnerability Spec store bypass: Vulnerable\n",
            "Vulnerability Spectre v1:        Vulnerable: __user pointer sanitization and use\n",
            "                                 rcopy barriers only; no swapgs barriers\n",
            "Vulnerability Spectre v2:        Vulnerable, IBPB: disabled, STIBP: disabled, PB\n",
            "                                 RSB-eIBRS: Not affected\n",
            "Vulnerability Srbds:             Not affected\n",
            "Vulnerability Tsx async abort:   Not affected\n",
            "Flags:                           fpu vme de pse tsc msr pae mce cx8 apic sep mtr\n",
            "                                 r pge mca cmov pat pse36 clflush mmx fxsr sse s\n",
            "                                 se2 ss ht syscall nx pdpe1gb rdtscp lm constant\n",
            "                                 _tsc rep_good nopl xtopology nonstop_tsc cpuid \n",
            "                                 tsc_known_freq pni pclmulqdq ssse3 fma cx16 pci\n",
            "                                 d sse4_1 sse4_2 x2apic movbe popcnt aes xsave a\n",
            "                                 vx f16c rdrand hypervisor lahf_lm abm invpcid_s\n",
            "                                 ingle ssbd ibrs ibpb stibp fsgsbase tsc_adjust \n",
            "                                 bmi1 avx2 smep bmi2 erms invpcid xsaveopt arat \n",
            "                                 md_clear arch_capabilities\n"
          ]
        }
      ]
    },
    {
      "cell_type": "code",
      "source": [
        "!CT_CUBLAS=1 pip install ctransformers --no-binary ctransformers"
      ],
      "metadata": {
        "colab": {
          "base_uri": "https://localhost:8080/"
        },
        "id": "FSxX-VO5ya0c",
        "outputId": "a745c12b-10d2-4f0b-e611-c3233929ab0f"
      },
      "execution_count": 1,
      "outputs": [
        {
          "output_type": "stream",
          "name": "stdout",
          "text": [
            "Requirement already satisfied: ctransformers in /usr/local/lib/python3.10/dist-packages (0.2.13)\n",
            "Requirement already satisfied: huggingface-hub in /usr/local/lib/python3.10/dist-packages (from ctransformers) (0.16.4)\n",
            "Requirement already satisfied: filelock in /usr/local/lib/python3.10/dist-packages (from huggingface-hub->ctransformers) (3.12.2)\n",
            "Requirement already satisfied: fsspec in /usr/local/lib/python3.10/dist-packages (from huggingface-hub->ctransformers) (2023.6.0)\n",
            "Requirement already satisfied: requests in /usr/local/lib/python3.10/dist-packages (from huggingface-hub->ctransformers) (2.27.1)\n",
            "Requirement already satisfied: tqdm>=4.42.1 in /usr/local/lib/python3.10/dist-packages (from huggingface-hub->ctransformers) (4.65.0)\n",
            "Requirement already satisfied: pyyaml>=5.1 in /usr/local/lib/python3.10/dist-packages (from huggingface-hub->ctransformers) (6.0)\n",
            "Requirement already satisfied: typing-extensions>=3.7.4.3 in /usr/local/lib/python3.10/dist-packages (from huggingface-hub->ctransformers) (4.7.1)\n",
            "Requirement already satisfied: packaging>=20.9 in /usr/local/lib/python3.10/dist-packages (from huggingface-hub->ctransformers) (23.1)\n",
            "Requirement already satisfied: urllib3<1.27,>=1.21.1 in /usr/local/lib/python3.10/dist-packages (from requests->huggingface-hub->ctransformers) (1.26.16)\n",
            "Requirement already satisfied: certifi>=2017.4.17 in /usr/local/lib/python3.10/dist-packages (from requests->huggingface-hub->ctransformers) (2023.5.7)\n",
            "Requirement already satisfied: charset-normalizer~=2.0.0 in /usr/local/lib/python3.10/dist-packages (from requests->huggingface-hub->ctransformers) (2.0.12)\n",
            "Requirement already satisfied: idna<4,>=2.5 in /usr/local/lib/python3.10/dist-packages (from requests->huggingface-hub->ctransformers) (3.4)\n"
          ]
        }
      ]
    },
    {
      "cell_type": "code",
      "source": [
        "# choose your champion\n",
        "#model_id = \"TheBloke/Llama-2-7B-GGML\"\n",
        "#model_id = \"TheBloke/Llama-2-7B-chat-GGML\"\n",
        "#model_id = \"TheBloke/Llama-2-13B-GGML\"\n",
        "model_id = \"TheBloke/Llama-2-13B-chat-GGML\""
      ],
      "metadata": {
        "id": "ZevxnXuWjGJP"
      },
      "execution_count": 15,
      "outputs": []
    },
    {
      "cell_type": "code",
      "execution_count": null,
      "metadata": {
        "id": "F4zXrO1Ehv3N"
      },
      "outputs": [],
      "source": [
        "from ctransformers import AutoModelForCausalLM\n",
        "\n",
        "config = {'max_new_tokens': 256, 'repetition_penalty': 1.1, 'temperature': 0.1, 'stream': True}\n",
        "\n",
        "llm = AutoModelForCausalLM.from_pretrained(model_id,\n",
        "                                           model_type=\"llama\",\n",
        "                                           #lib='avx2', for cpu use\n",
        "                                           gpu_layers=130, #110 for 7b, 130 for 13b\n",
        "                                           **config\n",
        "                                           )"
      ]
    },
    {
      "cell_type": "markdown",
      "source": [
        "## LLAMA-2-7B-Chat tests"
      ],
      "metadata": {
        "id": "TnWlnPuV4K29"
      }
    },
    {
      "cell_type": "markdown",
      "source": [
        "### Tokenizer"
      ],
      "metadata": {
        "id": "iA7q--qmxJT0"
      }
    },
    {
      "cell_type": "code",
      "source": [
        "prompt=\"\"\"Write a poem to help me remember the first 10 elements on the periodic table, giving each\n",
        "element its own line.\"\"\""
      ],
      "metadata": {
        "id": "MHL-6-iGzgO5"
      },
      "execution_count": 17,
      "outputs": []
    },
    {
      "cell_type": "code",
      "source": [
        "tokens = llm.tokenize(prompt)"
      ],
      "metadata": {
        "id": "N1CDKtF_w7qt"
      },
      "execution_count": 18,
      "outputs": []
    },
    {
      "cell_type": "code",
      "source": [
        "tokens"
      ],
      "metadata": {
        "colab": {
          "base_uri": "https://localhost:8080/"
        },
        "id": "tVKptuwQxHBR",
        "outputId": "0b17f8da-d4a9-4e45-902c-ff564bb2fcc6"
      },
      "execution_count": 5,
      "outputs": [
        {
          "output_type": "execute_result",
          "data": {
            "text/plain": [
              "[1,\n",
              " 6113,\n",
              " 263,\n",
              " 26576,\n",
              " 304,\n",
              " 1371,\n",
              " 592,\n",
              " 6456,\n",
              " 278,\n",
              " 937,\n",
              " 29871,\n",
              " 29896,\n",
              " 29900,\n",
              " 3161,\n",
              " 373,\n",
              " 278,\n",
              " 29591,\n",
              " 1591,\n",
              " 29892,\n",
              " 6820,\n",
              " 1269,\n",
              " 13,\n",
              " 5029,\n",
              " 967,\n",
              " 1914,\n",
              " 1196,\n",
              " 29889]"
            ]
          },
          "metadata": {},
          "execution_count": 5
        }
      ]
    },
    {
      "cell_type": "markdown",
      "source": [
        "### Pipeline"
      ],
      "metadata": {
        "id": "kgTA3z-9yLiG"
      }
    },
    {
      "cell_type": "code",
      "source": [
        "# 'pipeline' execution\n",
        "llm(prompt, stream=False)"
      ],
      "metadata": {
        "colab": {
          "base_uri": "https://localhost:8080/",
          "height": 122
        },
        "id": "wItUOIoTxskA",
        "outputId": "489b6759-9aa2-4c06-f395-90da4e3bd66d"
      },
      "execution_count": 6,
      "outputs": [
        {
          "output_type": "execute_result",
          "data": {
            "text/plain": [
              "'\\n\\nI. Hydrogen (H)\\nII. Helium (He)\\nIII. Lithium (Li)\\nIV. Beryllium (Be)\\nV. Boron (B)\\nVI. Carbon (C)\\nVII. Nitrogen (N)\\nVIII. Oxygen (O)\\nIX. Fluorine (F)\\nX. Neon (Ne)\\n\\nEach element has its own unique properties and characteristics,\\nFrom the number of protons in their nucleus to how they bond with other elements.\\nHydrogen is lightest, helium is second, lithium is third,\\nBeryllium is toxic, boron is a vital nutrient,\\nCarbon is the basis of life, nitrogen is in the air we breathe,\\nOxygen is what makes water wet, fluorine is a poisonous gas,\\nNeon glows with an otherworldly light.'"
            ],
            "application/vnd.google.colaboratory.intrinsic+json": {
              "type": "string"
            }
          },
          "metadata": {},
          "execution_count": 6
        }
      ]
    },
    {
      "cell_type": "code",
      "source": [
        "prompt2 = \"\"\"Quando e por quem o Brasil foi descoberto?\"\"\"\n",
        "llm(prompt2, stream=False)"
      ],
      "metadata": {
        "colab": {
          "base_uri": "https://localhost:8080/",
          "height": 87
        },
        "id": "TVUiwWls3uWC",
        "outputId": "98fd3994-a31f-416f-9d3b-f7bf86625fb0"
      },
      "execution_count": 10,
      "outputs": [
        {
          "output_type": "execute_result",
          "data": {
            "text/plain": [
              "'\\n\\nO Brasil foi descoberto em 1500, quando os exploradores europeus chegaram ao litoral do país. A descoberta do Brasil é creditada a Fernão de Noronha, que foi o primeiro a navegar pelo litoral da região. No entanto, é importante destacar que a presença indígena no território brasileiro remonta a 800 anos antes da chegada dos colonizadores europeus.'"
            ],
            "application/vnd.google.colaboratory.intrinsic+json": {
              "type": "string"
            }
          },
          "metadata": {},
          "execution_count": 10
        }
      ]
    },
    {
      "cell_type": "markdown",
      "source": [
        "### Generate with stream execution"
      ],
      "metadata": {
        "id": "C3po3AlayOAA"
      }
    },
    {
      "cell_type": "code",
      "source": [
        "# LlAMA-2-7b-chat execution\n",
        "import time\n",
        "start = time.time()\n",
        "NUM_TOKENS=0\n",
        "print('-'*4+'Start Generation'+'-'*4)\n",
        "for token in llm.generate(tokens):\n",
        "    print(llm.detokenize(token), end='', flush=True)\n",
        "    NUM_TOKENS+=1\n",
        "time_generate = time.time() - start\n",
        "print('\\n')\n",
        "print('-'*4+'End Generation'+'-'*4)\n",
        "print(f'Num of generated tokens: {NUM_TOKENS}')\n",
        "print(f'Time for complete generation: {time_generate}s')\n",
        "print(f'Tokens per secound: {NUM_TOKENS/time_generate}')\n",
        "print(f'Time per token: {(time_generate/NUM_TOKENS)*1000}ms')"
      ],
      "metadata": {
        "colab": {
          "base_uri": "https://localhost:8080/"
        },
        "id": "dQkt0pnXxhlk",
        "outputId": "e3eeab64-cc4a-44d5-8b88-93887f878410"
      },
      "execution_count": 19,
      "outputs": [
        {
          "output_type": "stream",
          "name": "stdout",
          "text": [
            "----Start Generation----\n",
            "\n",
            "\n",
            "I. Hydrogen (H)\n",
            "II. Helium (He)\n",
            "III. Lithium (Li)\n",
            "IV. Beryllium (Be)\n",
            "V. Boron (B)\n",
            "VI. Carbon (C)\n",
            "VII. Nitrogen (N)\n",
            "VIII. Oxygen (O)\n",
            "IX. Fluorine (F)\n",
            "X. Neon (Ne)\n",
            "\n",
            "I hope this helps me remember the first 10 elements on the periodic table!\n",
            "\n",
            "----End Generation----\n",
            "Num of generated tokens: 110\n",
            "Time for complete generation: 7.801689863204956s\n",
            "Tokens per secound: 14.099509456123355\n",
            "Time per token: 70.92445330186324ms\n"
          ]
        }
      ]
    },
    {
      "cell_type": "markdown",
      "source": [
        "## LLAMA-2-13B-Chat tests"
      ],
      "metadata": {
        "id": "unNgyGi1-hSq"
      }
    },
    {
      "cell_type": "markdown",
      "source": [
        "### Tokenizer"
      ],
      "metadata": {
        "id": "QuwfBncf-nMq"
      }
    },
    {
      "cell_type": "code",
      "source": [
        "prompt=\"\"\"Write a poem to help me remember the first 10 elements on the periodic table, giving each\n",
        "element its own line.\"\"\""
      ],
      "metadata": {
        "id": "8NKZATpR-vD7"
      },
      "execution_count": 4,
      "outputs": []
    },
    {
      "cell_type": "code",
      "source": [
        "tokens = llm.tokenize(prompt)"
      ],
      "metadata": {
        "id": "pOnlYfEG-mUU"
      },
      "execution_count": 5,
      "outputs": []
    },
    {
      "cell_type": "code",
      "source": [
        "tokens"
      ],
      "metadata": {
        "colab": {
          "base_uri": "https://localhost:8080/"
        },
        "id": "kKkb27Od-yGy",
        "outputId": "32df152c-6a99-43a1-f1e6-b643abcd2364"
      },
      "execution_count": 6,
      "outputs": [
        {
          "output_type": "execute_result",
          "data": {
            "text/plain": [
              "[1,\n",
              " 6113,\n",
              " 263,\n",
              " 26576,\n",
              " 304,\n",
              " 1371,\n",
              " 592,\n",
              " 6456,\n",
              " 278,\n",
              " 937,\n",
              " 29871,\n",
              " 29896,\n",
              " 29900,\n",
              " 3161,\n",
              " 373,\n",
              " 278,\n",
              " 29591,\n",
              " 1591,\n",
              " 29892,\n",
              " 6820,\n",
              " 1269,\n",
              " 13,\n",
              " 5029,\n",
              " 967,\n",
              " 1914,\n",
              " 1196,\n",
              " 29889]"
            ]
          },
          "metadata": {},
          "execution_count": 6
        }
      ]
    },
    {
      "cell_type": "markdown",
      "source": [
        "### Pipeline"
      ],
      "metadata": {
        "id": "OoWAD3bw_OQh"
      }
    },
    {
      "cell_type": "code",
      "source": [
        "# 'pipeline' execution\n",
        "llm(prompt, stream=False)"
      ],
      "metadata": {
        "colab": {
          "base_uri": "https://localhost:8080/",
          "height": 157
        },
        "id": "v2xoIS60_Pn3",
        "outputId": "9536b771-3336-48e7-bab0-33c8d1e45732"
      },
      "execution_count": 7,
      "outputs": [
        {
          "output_type": "execute_result",
          "data": {
            "text/plain": [
              "'\\n\\nI\\'m trying to learn these in order to pass my chemistry class, and I find it hard to remember them all. Any help would be appreciated!\\n\\nThank you!\"\\n\\nOf course, I\\'d be happy to help! Here is a poem to help you remember the first 10 elements on the periodic table:\\n\\nHydrogen is number one, a lightest element of all,\\nBoring and unreactive, it\\'s hard to recall.\\nHelium\\'s next, with a voice so high and thin,\\nIn balloons it\\'s used, and makes them fly within.\\nLithium follows, with a charge so strong,\\nIt\\'s in your phone and other devices all day long.\\nBeryllium\\'s next, a element so rare,\\nIn gemstones it\\'s found, and adds beauty there.\\nBoron\\'s the next, with a name so fun,\\nIn insecticides it\\'s used, to keep them done.\\nCarbon\\'s the king, of all elements we know,\\nFrom diamonds to coal, it\\'s found in many a show.\\nNitrogen\\'s'"
            ],
            "application/vnd.google.colaboratory.intrinsic+json": {
              "type": "string"
            }
          },
          "metadata": {},
          "execution_count": 7
        }
      ]
    },
    {
      "cell_type": "code",
      "source": [
        "prompt2 = \"\"\"Quando e por quem o Brasil foi descoberto?\"\"\"\n",
        "llm(prompt2, stream=False)"
      ],
      "metadata": {
        "colab": {
          "base_uri": "https://localhost:8080/",
          "height": 157
        },
        "id": "VjbT4CDg_wFn",
        "outputId": "0aa2b601-a081-494b-f02f-235905b2988d"
      },
      "execution_count": 8,
      "outputs": [
        {
          "output_type": "execute_result",
          "data": {
            "text/plain": [
              "'\\n\\nA descoberta do Brasil é um evento histórico que ocorreu em 1500, quando a expedição de Pedro Álvares Cabral alcançou as costas do atual Brasil. A expedição partiu da Portugal em 2 de abril de 1500 e chegou ao Brasil em 22 de maio do mesmo ano.\\n\\nA descoberta do Brasil é creditada a Pedro Álvares Cabral, que foi o líder da expedição. Ele era um navegador português que havia participado de outras viagens para o leste da África e para a Índia. A expedição de Cabral foi a primeira a chegar ao Novo Mundo desde a viagem de Cristóvão Colombo em 1492.\\n\\nO objetivo da expedição de Cabral era encontrar uma rota marítima para a Índia, mas quando chegou às costas do Brasil, ele descobriu um novo continente. A descoberta do Brasil teve um impacto significativo na história do mundo e marcou o início de uma nova era de exploração'"
            ],
            "application/vnd.google.colaboratory.intrinsic+json": {
              "type": "string"
            }
          },
          "metadata": {},
          "execution_count": 8
        }
      ]
    },
    {
      "cell_type": "markdown",
      "source": [
        "### Stream generation"
      ],
      "metadata": {
        "id": "AyW6vpsK_mWZ"
      }
    },
    {
      "cell_type": "code",
      "source": [
        "# LlAMA-2-13b-chat execution\n",
        "import time\n",
        "start = time.time()\n",
        "NUM_TOKENS=0\n",
        "print('-'*4+'Start Generation'+'-'*4)\n",
        "for token in llm.generate(tokens):\n",
        "    print(llm.detokenize(token), end='', flush=True)\n",
        "    NUM_TOKENS+=1\n",
        "time_generate = time.time() - start\n",
        "print('\\n')\n",
        "print('-'*4+'End Generation'+'-'*4)\n",
        "print(f'Num of generated tokens: {NUM_TOKENS}')\n",
        "print(f'Time for complete generation: {time_generate}s')\n",
        "print(f'Tokens per secound: {NUM_TOKENS/time_generate}')\n",
        "print(f'Time per token: {(time_generate/NUM_TOKENS)*1000}ms')"
      ],
      "metadata": {
        "colab": {
          "base_uri": "https://localhost:8080/"
        },
        "id": "4xkH5Kc5_tfo",
        "outputId": "5a51868b-f08c-43b5-b88d-db204e24f49b"
      },
      "execution_count": 13,
      "outputs": [
        {
          "output_type": "stream",
          "name": "stdout",
          "text": [
            "----Start Generation----\n",
            "\n",
            "\n",
            "I'm trying to learn these in order to pass my chemistry class and I would really appreciate your help!\n",
            "\n",
            "Thank you!\"\n",
            "\n",
            "Here is a poem to help you remember the first 10 elements on the periodic table:\n",
            "\n",
            "Hydrogen is number one, light as can be\n",
            "Helium's next, with a balloon-like spree\n",
            "Then comes Lithium, shining bright and bold\n",
            "Beryllium's next, its strength untold\n",
            "Boron's the next, with a tricky name\n",
            "Carbon's the one that makes all life the same\n",
            "Nitrogen's up, with an airy fame\n",
            "Oxygen's next, for breathing we claim\n",
            "Fluorine's last, with a twist of fame\n",
            "\n",
            "I hope this helps you remember the first 10 elements on the periodic table!\n",
            "\n",
            "----End Generation----\n",
            "Num of generated tokens: 192\n",
            "Time for complete generation: 26.46462845802307s\n",
            "Tokens per secound: 7.2549667683618235\n",
            "Time per token: 137.8366065522035ms\n"
          ]
        }
      ]
    },
    {
      "cell_type": "markdown",
      "source": [
        "## LangChain Integration"
      ],
      "metadata": {
        "id": "sstVjp7xALyv"
      }
    },
    {
      "cell_type": "markdown",
      "source": [
        "https://python.langchain.com/docs/ecosystem/integrations/ctransformers"
      ],
      "metadata": {
        "id": "TC_HpPtSAR_x"
      }
    }
  ]
}